{
 "cells": [
  {
   "cell_type": "code",
   "execution_count": 1,
   "id": "c6899814-b000-474b-826d-c79df6ebc178",
   "metadata": {},
   "outputs": [],
   "source": [
    "from ultralytics import YOLO\n",
    "\n",
    "model = YOLO(\"yolov8s-oiv7.pt\", task='detect') "
   ]
  },
  {
   "cell_type": "code",
   "execution_count": 2,
   "id": "bc104880-f7d1-4283-be7d-14a248059de8",
   "metadata": {},
   "outputs": [],
   "source": [
    "#?YOLO\n",
    "# ?model.predict\n",
    "# ?model.predict"
   ]
  },
  {
   "cell_type": "code",
   "execution_count": 10,
   "id": "ce6cb102-53cf-491f-ac04-c0ec5fee3e76",
   "metadata": {},
   "outputs": [
    {
     "name": "stdout",
     "output_type": "stream",
     "text": [
      "Results saved to \u001b[1mruns/detect/predict2\u001b[0m\n"
     ]
    }
   ],
   "source": [
    "video_link = 'short_video_test.mp4'\n",
    "\n",
    "classes = ['Human face']\n",
    "classes = [264]\n",
    "\n",
    "\n",
    "results = model.predict(video_link, classes = classes, imgsz=640, conf=0.25, save=True, verbose=False, stream=True)\n",
    "\n",
    "for result in results:\n",
    "    pass"
   ]
  }
 ],
 "metadata": {
  "kernelspec": {
   "display_name": "Python 3 (ipykernel)",
   "language": "python",
   "name": "python3"
  },
  "language_info": {
   "codemirror_mode": {
    "name": "ipython",
    "version": 3
   },
   "file_extension": ".py",
   "mimetype": "text/x-python",
   "name": "python",
   "nbconvert_exporter": "python",
   "pygments_lexer": "ipython3",
   "version": "3.12.5"
  }
 },
 "nbformat": 4,
 "nbformat_minor": 5
}
