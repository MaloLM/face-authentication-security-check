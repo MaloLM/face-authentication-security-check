{
 "cells": [
  {
   "cell_type": "code",
   "execution_count": null,
   "id": "19a45974-ab9c-4ba1-b3e5-dcce2afb5a76",
   "metadata": {},
   "outputs": [],
   "source": [
    "import paho.mqtt.client as mqtt\n",
    "\n",
    "def main():\n",
    "    client = mqtt.Client()\n",
    "    client.connect(\"localhost\", 1883, 60)\n",
    "    client.publish(\"test/topic\", \"Message depuis Python sur macOS\")\n",
    "    client.disconnect()\n",
    "\n",
    "if __name__ == \"__main__\":\n",
    "    main()\n"
   ]
  },
  {
   "cell_type": "code",
   "execution_count": null,
   "id": "dad9aff0-9e38-4ca8-aac0-9d115ce72237",
   "metadata": {},
   "outputs": [],
   "source": [
    "import paho.mqtt.client as mqtt\n",
    "\n",
    "def on_message(client, userdata, msg):\n",
    "    print(f\"Message reçu sur le topic {msg.topic}: {msg.payload.decode()}\")\n",
    "\n",
    "def main():\n",
    "    client = mqtt.Client()\n",
    "    client.on_message = on_message\n",
    "    client.connect(\"localhost\", 1883, 60)\n",
    "    client.subscribe(\"test/topic\")\n",
    "    client.loop_forever()\n",
    "\n",
    "if __name__ == \"__main__\":\n",
    "    main()"
   ]
  },
  {
   "cell_type": "markdown",
   "id": "c4d0c694-7c35-49e0-a0d1-f4d0b065030b",
   "metadata": {},
   "source": [
    "### 5. **Débogage et Vérification  sur MacOS**\n",
    "\n",
    "- Si Mosquitto ne fonctionne pas ou si les messages ne sont pas transmis, vérifie les logs :\n",
    "  ```bash\n",
    "  tail -f /usr/local/var/log/mosquitto/mosquitto.log\n",
    "  ```\n",
    "\n",
    "- Vérifie aussi si le port 1883 est bien utilisé par Mosquitto :\n",
    "  ```bash\n",
    "  lsof -i :1883\n",
    "  ```\n",
    "\n",
    "### **Arrêter et Gérer Mosquitto sur MacOS**\n",
    "\n",
    "Pour arrêter Mosquitto (lorsqu’il est démarré via Homebrew) :\n",
    "```bash\n",
    "brew services stop mosquitto\n",
    "```\n",
    "\n",
    "### **Supervision des Programmes (Optionnel)**\n",
    "\n",
    "Pour gérer plusieurs scripts Python simultanément sous macOS, utiliser un outil comme **`supervisord`** ou encore lancer plusieurs terminaux pour exécuter manuellement chaque programme.\n"
   ]
  }
 ],
 "metadata": {
  "kernelspec": {
   "display_name": "Python 3 (ipykernel)",
   "language": "python",
   "name": "python3"
  },
  "language_info": {
   "codemirror_mode": {
    "name": "ipython",
    "version": 3
   },
   "file_extension": ".py",
   "mimetype": "text/x-python",
   "name": "python",
   "nbconvert_exporter": "python",
   "pygments_lexer": "ipython3",
   "version": "3.10.11"
  }
 },
 "nbformat": 4,
 "nbformat_minor": 5
}
